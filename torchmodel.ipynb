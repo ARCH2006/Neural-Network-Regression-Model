{
  "nbformat": 4,
  "nbformat_minor": 0,
  "metadata": {
    "colab": {
      "provenance": [],
      "authorship_tag": "ABX9TyPDyrR/MvzJW+VgGuVdj6fa",
      "include_colab_link": true
    },
    "kernelspec": {
      "name": "python3",
      "display_name": "Python 3"
    },
    "language_info": {
      "name": "python"
    }
  },
  "cells": [
    {
      "cell_type": "markdown",
      "metadata": {
        "id": "view-in-github",
        "colab_type": "text"
      },
      "source": [
        "<a href=\"https://colab.research.google.com/github/ARCH2006/Neural-Network-Regression-Model/blob/main/torchmodel.ipynb\" target=\"_parent\"><img src=\"https://colab.research.google.com/assets/colab-badge.svg\" alt=\"Open In Colab\"/></a>"
      ]
    },
    {
      "cell_type": "code",
      "execution_count": null,
      "metadata": {
        "id": "zg8JJiVEPYmE"
      },
      "outputs": [],
      "source": [
        "import torch\n",
        "import torch.nn as nn #neuralnetwork\n",
        "import torch.optim as optim #optimizer to adjust weights\n",
        "import pandas as pd\n",
        "from sklearn.model_selection import train_test_split\n",
        "from sklearn.preprocessing import MinMaxScaler"
      ]
    },
    {
      "cell_type": "code",
      "source": [
        "dataset1 = pd.read_csv(\"tensordata.csv\")\n",
        "X = dataset1[['input']].values\n",
        "y = dataset1[['output']].values"
      ],
      "metadata": {
        "id": "6ZoUcJ4rPoqQ"
      },
      "execution_count": null,
      "outputs": []
    },
    {
      "cell_type": "code",
      "source": [
        "X_train, X_test, y_train, y_test = train_test_split(X, y, test_size=0.33, random_state=33)"
      ],
      "metadata": {
        "id": "vJtNOUjXQ91S"
      },
      "execution_count": null,
      "outputs": []
    },
    {
      "cell_type": "code",
      "source": [
        "scaler = MinMaxScaler() #for scaling 0,1\n",
        "X_train = scaler.fit_transform(X_train) #atleast once it should fitted\n",
        "X_test = scaler.transform(X_test)\n"
      ],
      "metadata": {
        "id": "LvoZz6-ERCLO"
      },
      "execution_count": null,
      "outputs": []
    },
    {
      "cell_type": "code",
      "source": [
        "#convert into tensors(if working in tensor no need)\n",
        "X_train_tensor = torch.tensor(X_train, dtype=torch.float32)\n",
        "y_train_tensor = torch.tensor(y_train, dtype=torch.float32).view(-1, 1)\n",
        "X_test_tensor = torch.tensor(X_test, dtype=torch.float32)\n",
        "y_test_tensor = torch.tensor(y_test, dtype=torch.float32).view(-1, 1)"
      ],
      "metadata": {
        "id": "Bqmy1BgyRMvD"
      },
      "execution_count": null,
      "outputs": []
    },
    {
      "cell_type": "code",
      "source": [
        "# Name:\n",
        "# Register Number:\n",
        "#defining the class\n",
        "class NeuralNet(nn.Module):\n",
        "  def __init__(self):\n",
        "        super().__init__()\n",
        "        self.fc1 = nn.Linear(1,8)\n",
        "        self.fc2 = nn.Linear(8,10)\n",
        "        self.fc3 = nn.Linear(10,1)\n",
        "        #activation func\n",
        "        self.relu = nn.ReLU()\n",
        "        self.history = {'loss' : []}\n",
        "  def forward(self, x):\n",
        "    x = self.relu(self.fc1(x))\n",
        "    x = self.relu(self.fc2(x))\n",
        "    x = self.fc3(x) #no activation func in O/P\n",
        "    return x\n",
        "\n",
        "        # Include your code here\n",
        "\n",
        "\n"
      ],
      "metadata": {
        "id": "myEt6Qt6RbGt"
      },
      "execution_count": null,
      "outputs": []
    },
    {
      "cell_type": "code",
      "source": [
        "ai_brain = NeuralNet() #ai_brain is a model\n",
        "criterion = nn.MSELoss() #loss func\n",
        "optimizer = optim.RMSprop(ai_brain.parameters(), lr=0.001) #to adjust the weighs"
      ],
      "metadata": {
        "id": "VFsWLSsFUpyt"
      },
      "execution_count": null,
      "outputs": []
    },
    {
      "cell_type": "code",
      "source": [
        "# Initialize the Model, Loss Function, and Optimizer\n",
        "# Write your code here\n",
        "def train_model(ai_brain, X_train, y_train, criterion, optimizer, epochs=2000):\n",
        "  for epoch in range(epochs): #epoch is a iterator\n",
        "    optimizer.zero_grad()\n",
        "    loss = criterion(ai_brain(X_train), y_train)\n",
        "    loss.backward() #adjusting according to loss\n",
        "    optimizer.step()\n",
        "\n",
        "    ai_brain.history['loss'].append(loss.item())\n",
        "    if epoch % 200 == 0:\n",
        "      print(f'Epoch [{epoch}/{epochs}], Loss: {loss.item():.6f}')\n"
      ],
      "metadata": {
        "id": "SMwNbmGwRyg1"
      },
      "execution_count": null,
      "outputs": []
    },
    {
      "cell_type": "code",
      "source": [
        "train_model(ai_brain, X_train_tensor, y_train_tensor, criterion, optimizer) #training the model"
      ],
      "metadata": {
        "colab": {
          "base_uri": "https://localhost:8080/"
        },
        "id": "s_-nJ9aTSGTF",
        "outputId": "3c0e1a1e-0934-411e-b24e-4bf9a3228dc2"
      },
      "execution_count": null,
      "outputs": [
        {
          "output_type": "stream",
          "name": "stdout",
          "text": [
            "Epoch [0/2000], Loss: 30478.927734\n",
            "Epoch [200/2000], Loss: 29344.031250\n",
            "Epoch [400/2000], Loss: 27158.818359\n",
            "Epoch [600/2000], Loss: 23806.974609\n",
            "Epoch [800/2000], Loss: 19452.431641\n",
            "Epoch [1000/2000], Loss: 14507.250000\n",
            "Epoch [1200/2000], Loss: 9652.606445\n",
            "Epoch [1400/2000], Loss: 5770.184570\n",
            "Epoch [1600/2000], Loss: 3631.344482\n",
            "Epoch [1800/2000], Loss: 3022.696533\n"
          ]
        }
      ]
    },
    {
      "cell_type": "code",
      "source": [
        "#testing the data\n",
        "with torch.no_grad():\n",
        "    test_loss = criterion(ai_brain(X_test_tensor), y_test_tensor)\n",
        "    print(f'Test Loss: {test_loss.item():.6f}')"
      ],
      "metadata": {
        "colab": {
          "base_uri": "https://localhost:8080/"
        },
        "id": "70dt6lb_cKIn",
        "outputId": "00827d98-b057-4d0d-e4f6-e0a241a1fbb6"
      },
      "execution_count": null,
      "outputs": [
        {
          "output_type": "stream",
          "name": "stdout",
          "text": [
            "Test Loss: 3897.560059\n"
          ]
        }
      ]
    },
    {
      "cell_type": "code",
      "source": [
        "loss_df = pd.DataFrame(ai_brain.history)"
      ],
      "metadata": {
        "id": "V0oKzg44cP_k"
      },
      "execution_count": null,
      "outputs": []
    },
    {
      "cell_type": "code",
      "source": [
        "#representing the loss\n",
        "import matplotlib.pyplot as plt\n",
        "loss_df.plot()\n",
        "plt.xlabel(\"Epochs\")\n",
        "plt.ylabel(\"Loss\")\n",
        "plt.title(\"Loss during Training\")\n",
        "plt.show()"
      ],
      "metadata": {
        "colab": {
          "base_uri": "https://localhost:8080/",
          "height": 472
        },
        "id": "eHDVrSPtcUhY",
        "outputId": "aa6b7a1c-f5cb-45f6-db2f-f2a3718621d9"
      },
      "execution_count": null,
      "outputs": [
        {
          "output_type": "display_data",
          "data": {
            "text/plain": [
              "<Figure size 640x480 with 1 Axes>"
            ],
            "image/png": "[encoded data removed]"
          },
          "metadata": {}
        }
      ]
    },
    {
      "cell_type": "code",
      "source": [
        "#prediction\n",
        "X_n1_1 = torch.tensor([[10]], dtype=torch.float32)\n",
        "prediction = ai_brain(torch.tensor(scaler.transform(X_n1_1), dtype=torch.float32)).item()\n",
        "print(f'Prediction: {prediction}')"
      ],
      "metadata": {
        "colab": {
          "base_uri": "https://localhost:8080/"
        },
        "id": "WxZ7bUsUcdxB",
        "outputId": "7e032a5c-f1f1-4b7b-fcd3-26644ed14b21"
      },
      "execution_count": null,
      "outputs": [
        {
          "output_type": "stream",
          "name": "stdout",
          "text": [
            "Prediction: 142.84461975097656\n"
          ]
        }
      ]
    }
  ]
}